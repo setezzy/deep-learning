{
 "cells": [
  {
   "cell_type": "markdown",
   "metadata": {},
   "source": [
    "## Logistic Regression Demo"
   ]
  },
  {
   "cell_type": "code",
   "execution_count": 1,
   "metadata": {},
   "outputs": [],
   "source": [
    "import numpy as np\n",
    "import matplotlib.pyplot as plt"
   ]
  },
  {
   "cell_type": "markdown",
   "metadata": {},
   "source": [
    "首先载入一个包含n个实例的简单数据集, 每个实例的格式为 {x1 x2 label}， label取值仅为 0,1，为二分类"
   ]
  },
  {
   "cell_type": "code",
   "execution_count": 8,
   "metadata": {},
   "outputs": [],
   "source": [
    "def loadDataset(filepath):\n",
    "    dataMat = []\n",
    "    labelMat = []\n",
    "    with open(filepath) as data:\n",
    "        for line in data.readlines():\n",
    "            arr = line.strip().split()\n",
    "            dataMat.append([1.0, float(arr[0]), float(arr[1])])  # 增加了一列值为1的属性，方便后面矩阵运算\n",
    "            labelMat.append(int(arr[2]))\n",
    "    return dataMat, labelMat"
   ]
  },
  {
   "cell_type": "code",
   "execution_count": 10,
   "metadata": {},
   "outputs": [],
   "source": [
    "def sigmoid(z):\n",
    "    '''\n",
    "    sigmoid 函数\n",
    "    Args:\n",
    "        z: 线性回归模型的预测值\n",
    "    Return: sigmoid输出\n",
    "    '''\n",
    "    return 1.0 / (1 + np.exp(-z))"
   ]
  },
  {
   "cell_type": "markdown",
   "metadata": {},
   "source": [
    "接下来定义梯度上升法更新权重 （此处为全局定步长梯度，即批量梯度上升）"
   ]
  },
  {
   "cell_type": "code",
   "execution_count": 12,
   "metadata": {},
   "outputs": [],
   "source": [
    "def gradAscent(data, labels, alpha=0.001, maxIter=500):\n",
    "    '''\n",
    "    Args:\n",
    "        data: 包含 n-d 特征的数据集\n",
    "        labels: 标签集\n",
    "        alpha: 步长(学习率)\n",
    "        maxIter: 最大迭代次数\n",
    "    Return:\n",
    "        weights: 权重\n",
    "    '''\n",
    "    dataMat = np.mat(data)\n",
    "    labelMat = np.mat(labels).transpose()  # 将label矩阵转置为列向量\n",
    "    m, n = np.shape(dataMat)\n",
    "    weights = np.ones((n, 1))  # 初始化权重矩阵（全零）\n",
    "    for i in range(maxIter):\n",
    "        y = sigmoid(dataMat*weights)  # 实质上是用线性回归模型的预测值逼近真实值的对数几率\n",
    "        error = (labelMat - y)\n",
    "        weights += alpha*dataMat.transpose()*error\n",
    "    return weights"
   ]
  },
  {
   "cell_type": "code",
   "execution_count": 49,
   "metadata": {},
   "outputs": [
    {
     "data": {
      "text/plain": [
       "array([[ 4.12414349],\n",
       "       [ 0.48007329],\n",
       "       [-0.6168482 ]])"
      ]
     },
     "execution_count": 49,
     "metadata": {},
     "output_type": "execute_result"
    }
   ],
   "source": [
    "dataMat, labelMat = loadDataset('./dataset/testSet.txt')\n",
    "weights = gradAscent(dataMat, labelMat)\n",
    "weights"
   ]
  },
  {
   "cell_type": "markdown",
   "metadata": {},
   "source": [
    "下面对分类决策边界进行可视化"
   ]
  },
  {
   "cell_type": "code",
   "execution_count": 56,
   "metadata": {},
   "outputs": [],
   "source": [
    "def plotBestFit(weights):\n",
    "    dataMat, labelMat = loadDataset('./dataset/testSet.txt')\n",
    "    dataArr = np.array(dataMat)\n",
    "    labelMat = np.array(labelMat)\n",
    "    m = np.shape(dataArr)[0]\n",
    "    xcord1 = []\n",
    "    ycord1 = []\n",
    "    xcord2 = []\n",
    "    ycord2 = []\n",
    "    for i in range(m):\n",
    "        if int(labelMat[i]) == 1:\n",
    "            xcord1.append(dataArr[i, 1])\n",
    "            ycord1.append(dataArr[i, 2])\n",
    "        else:\n",
    "            xcord2.append(dataArr[i, 1])\n",
    "            ycord2.append(dataArr[i, 2])\n",
    "    fig = plt.figure()\n",
    "    ax = fig.add_subplot(111)\n",
    "    ax.scatter(xcord1, ycord1, s=20, c='dodgerblue', marker='s')\n",
    "    ax.scatter(xcord2, ycord2, s=20, c='green')\n",
    "    # 最佳拟合直线：1*w0 + w1*x1 + w2*x2 = 0\n",
    "    # z = 0 时，预测值大于 0.5 为正例，反之为负例\n",
    "    # 横轴为 x1, 纵轴为x2\n",
    "    x = np.arange(-3.0, 3.0, 0.1)\n",
    "    y = (-weights[0] - weights[1]*x) / weights[2]\n",
    "    ax.plot(x, y.T)\n",
    "    plt.xlabel('X1')\n",
    "    plt.ylabel('X2')\n",
    "    plt.show()\n",
    "    "
   ]
  },
  {
   "cell_type": "code",
   "execution_count": 51,
   "metadata": {},
   "outputs": [
    {
     "data": {
      "image/png": "[encoded data removed]",
      "text/plain": [
       "<Figure size 432x288 with 1 Axes>"
      ]
     },
     "metadata": {},
     "output_type": "display_data"
    }
   ],
   "source": [
    "plotBestFit(weights)"
   ]
  },
  {
   "cell_type": "markdown",
   "metadata": {},
   "source": [
    "上面的梯度上升法每次读取一整个数据集来更新权重，当数据集过大时非常耗费计算资源,收敛过程也可能振荡。因此通常采取一种随机梯度上升法，每次随机选取一个batch的数据计算梯度并更新权重"
   ]
  },
  {
   "cell_type": "code",
   "execution_count": 42,
   "metadata": {},
   "outputs": [],
   "source": [
    "def stocGradAscent(data, labels, maxIter=150):\n",
    "    '''\n",
    "    随机梯度上升（每次迭代随机选取一个instance）\n",
    "    Args:\n",
    "        data: 包含 n-d 特征的数据集\n",
    "        labels: 标签集\n",
    "        maxIter: 最大迭代次数（以保证快速收敛）\n",
    "    Returns:\n",
    "        weights: 更新的权重\n",
    "    '''\n",
    "    data = np.mat(data)\n",
    "    labesl = np.mat(labels).T\n",
    "    m, n = np.shape(data)\n",
    "    weights = np.ones((n,1))\n",
    "    for i in range(maxIter):\n",
    "        dataIndex = list(range(m))\n",
    "        for j in range(m):\n",
    "            # 使学习率随迭代次数增大而减小\n",
    "            alpha = 4 / (1.0 + i + j) + 0.001\n",
    "            # 随机选取一个实例计算梯度\n",
    "            randIndex = int(np.random.uniform(0, len(dataIndex)))\n",
    "            y = sigmoid(np.sum(data[randIndex] * weights))\n",
    "            error = labels[randIndex] - y\n",
    "            weights = weights + alpha * error * data[randIndex].T\n",
    "            del(dataIndex[randIndex])\n",
    "    return weights"
   ]
  },
  {
   "cell_type": "code",
   "execution_count": 52,
   "metadata": {},
   "outputs": [
    {
     "data": {
      "text/plain": [
       "matrix([[14.03021096],\n",
       "        [ 1.0348258 ],\n",
       "        [-2.03087127]])"
      ]
     },
     "execution_count": 52,
     "metadata": {},
     "output_type": "execute_result"
    }
   ],
   "source": [
    "dataMat, labelMat = loadDataset('./dataset/testSet.txt')\n",
    "weights = stocGradAscent(dataMat, labelMat)\n",
    "weights"
   ]
  },
  {
   "cell_type": "code",
   "execution_count": 57,
   "metadata": {},
   "outputs": [
    {
     "data": {
      "image/png": "[encoded data removed]",
      "text/plain": [
       "<Figure size 432x288 with 1 Axes>"
      ]
     },
     "metadata": {},
     "output_type": "display_data"
    }
   ],
   "source": [
    "plotBestFit(weights)"
   ]
  },
  {
   "cell_type": "markdown",
   "metadata": {},
   "source": [
    "## Example: using logistic regression to estimate horse fatalities from colic"
   ]
  },
  {
   "cell_type": "markdown",
   "metadata": {},
   "source": [
    "下面是一个小例子，利用对率回归预测得疝气的马是否会死亡。数据集共 368 个 instances，每个 instance 为 28 维特征向量"
   ]
  },
  {
   "cell_type": "markdown",
   "metadata": {},
   "source": [
    "首先我们需要对数据集进行预处理，主要是对缺失值的处理。通常有以下几种方式填补缺失值：\n",
    "- 取特征均值\n",
    "- 取特殊值，例如 -1\n",
    "- 忽略属性值缺失的实例\n",
    "- 取相似items的均值\n",
    "- 利用其他的ML算法预测缺失值\n",
    "\n",
    "这里采用的方法是填补特殊值 0，使得该项对应的权重系数不做更新。且通过 sigmoid 函数我们知道 z=0 时 输出值为 0.5，所以填充 0 值不会使预测结果偏倚"
   ]
  },
  {
   "cell_type": "code",
   "execution_count": 59,
   "metadata": {},
   "outputs": [],
   "source": [
    "def classify(x, weights):\n",
    "    '''\n",
    "    二分类，以0.5为界\n",
    "    Args:\n",
    "        x: n-d 数据\n",
    "        weights: 权重\n",
    "    Return：分类结果（正负）\n",
    "        \n",
    "    '''\n",
    "    prob = sigmoid(np.sum(x * weights))\n",
    "    if prob > 0.5:\n",
    "        return 1.0\n",
    "    else:\n",
    "        return 0.0"
   ]
  },
  {
   "cell_type": "code",
   "execution_count": 75,
   "metadata": {},
   "outputs": [],
   "source": [
    "def colicTest():\n",
    "    trainingSet = []\n",
    "    trainingLabels = []\n",
    "    # 训练\n",
    "    with open('./dataset/horseColicTraining.txt') as data_train:\n",
    "        for line in data_train.readlines():\n",
    "            arr = line.strip().split('\\t')\n",
    "            arr = list(map(float, arr))\n",
    "            trainingSet.append(arr[:-1])\n",
    "            # 每行最后一个为label\n",
    "            trainingLabels.append(arr[-1])\n",
    "    trainWeights = stocGradAscent(np.array(trainingSet), trainingLabels, 500)\n",
    "    # 验证\n",
    "    errorCount = 0\n",
    "    numTest = 0\n",
    "    with open('./dataset/horseColicTest.txt') as data_test:\n",
    "        for line in data_test.readlines():\n",
    "            numTest += 1.0\n",
    "            arr = line.strip().split('\\t')\n",
    "            arr = list(map(float, arr))\n",
    "            testSet = arr[:-1]\n",
    "            testLabel = arr[-1]\n",
    "            if int(classify(testSet, trainWeights)) != int(testLabel):\n",
    "                errorCount += 1\n",
    "    errorRate = float(errorCount / numTest)\n",
    "    print('the error rate is : %f' % errorRate)\n",
    "    return errorRate\n",
    "            "
   ]
  },
  {
   "cell_type": "code",
   "execution_count": 78,
   "metadata": {},
   "outputs": [],
   "source": [
    "def multiTest():\n",
    "    # 10次测试求错误率均值\n",
    "    num = 10\n",
    "    errorSum = 0.0\n",
    "    for i in range(num):\n",
    "        errorSum += colicTest()\n",
    "    print('after %d iterations the mean error rate is %f' % (num, errorSum / float(num) ))"
   ]
  },
  {
   "cell_type": "code",
   "execution_count": 79,
   "metadata": {},
   "outputs": [
    {
     "name": "stdout",
     "output_type": "stream",
     "text": [
      "the error rate is : 0.373134\n",
      "the error rate is : 0.417910\n",
      "the error rate is : 0.253731\n",
      "the error rate is : 0.298507\n",
      "the error rate is : 0.373134\n",
      "the error rate is : 0.373134\n",
      "the error rate is : 0.283582\n",
      "the error rate is : 0.268657\n",
      "the error rate is : 0.388060\n",
      "the error rate is : 0.298507\n",
      "after 10 iterations the mean error rate is 0.332836\n"
     ]
    }
   ],
   "source": [
    "multiTest()"
   ]
  },
  {
   "cell_type": "code",
   "execution_count": null,
   "metadata": {},
   "outputs": [],
   "source": []
  }
 ],
 "metadata": {
  "kernelspec": {
   "display_name": "Python 3",
   "language": "python",
   "name": "python3"
  },
  "language_info": {
   "codemirror_mode": {
    "name": "ipython",
    "version": 3
   },
   "file_extension": ".py",
   "mimetype": "text/x-python",
   "name": "python",
   "nbconvert_exporter": "python",
   "pygments_lexer": "ipython3",
   "version": "3.6.5"
  }
 },
 "nbformat": 4,
 "nbformat_minor": 2
}
